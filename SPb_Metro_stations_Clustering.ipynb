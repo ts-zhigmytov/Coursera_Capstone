{
  "nbformat": 4,
  "nbformat_minor": 0,
  "metadata": {
    "colab": {
      "name": "SPb_stations",
      "provenance": [],
      "authorship_tag": "ABX9TyNNxpuqqsmVg6XerxeTbqKk"
    },
    "kernelspec": {
      "name": "python3",
      "display_name": "Python 3"
    }
  },
  "cells": [
    {
      "cell_type": "code",
      "metadata": {
        "id": "7o6vMqWicAsK"
      },
      "source": [
        ""
      ],
      "execution_count": null,
      "outputs": []
    },
    {
      "cell_type": "markdown",
      "metadata": {
        "id": "7vGW6Cm7cFfS"
      },
      "source": [
        "# Classification of Saint-Petersburg Metro Stations\r\n",
        "## Introduction\r\n",
        "Saint-Petersburg Metro has 72 stations and is the 26th busiest metro system in the world. It is used by more than 2 million people daily. \r\n",
        "\r\n",
        "For this project, we want to look at the neighborhoods surrounding metro stations and classify them by primary usage. E.g. if there are no professional places in a neighborhood its residents are likely to travel to other areas for work. \r\n",
        "\r\n",
        "This data is useful for city planners to determine where from and where to people are most likely to travel for work and leisure. This can help either businessmen to pick neighborhood to build and develop a new venue.\r\n"
      ]
    },
    {
      "cell_type": "markdown",
      "metadata": {
        "id": "_Kc2FFCfi2SA"
      },
      "source": [
        "## Data\r\n",
        "We'll need data on the location of stations and on the venues closest to them.\r\n",
        "\r\n",
        "1. List of stations and their geographical coordinates — scraped from [this Wikipedia page](https://en.wikipedia.org/wiki/List_of_Saint_Petersburg_Metro_stations) and [its Russian version](https://ru.wikipedia.org/wiki/Список_станций_Петербургского_метрополитена). \r\n",
        "\r\n",
        "2. Foursquare API to explore venue types surrounding each station. Foursquare outlines these high-level venue categories with more sub-categories:\r\n",
        "*   Arts & Entertainment \r\n",
        "*   College & University \r\n",
        "*   Event \r\n",
        "*   Food \r\n",
        "*   Nightlife Spot \r\n",
        "*   Outdoors & Recreation \r\n",
        "*   Professional & Other Places \r\n",
        "*   Residence \r\n",
        "*   Shop & Service \r\n",
        "*   Travel & Transport\r\n",
        "\r\n",
        "We’ll be querying the number of venues in each category in a 1500m radius around each station. This radius was chosen because 1500m is a quite reasonable walking distance (~15 min). "
      ]
    }
  ]
}