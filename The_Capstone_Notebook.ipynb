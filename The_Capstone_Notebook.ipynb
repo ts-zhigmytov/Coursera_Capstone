{
  "nbformat": 4,
  "nbformat_minor": 0,
  "metadata": {
    "colab": {
      "name": "The Capstone Notebook",
      "provenance": [],
      "authorship_tag": "ABX9TyMGDne5zDvY/ipjmnc+IcZz"
    },
    "kernelspec": {
      "name": "python3",
      "display_name": "Python 3"
    }
  },
  "cells": [
    {
      "cell_type": "markdown",
      "metadata": {
        "id": "AlWbXjmykfra"
      },
      "source": [
        "# Foursquare Applied Data Science Capstone Project\r\n",
        "\r\n",
        "## The objectives\r\n",
        "\r\n",
        "This notebook will be the main part of Applied Data Science Project by Coursera's IBM DS Certification. \r\n",
        "\r\n",
        "The Capstone Project will use the Foursquare API to fetch location data\r\n",
        "\r\n",
        "(updating...)"
      ]
    },
    {
      "cell_type": "code",
      "metadata": {
        "id": "fHdDh6i5kRe1"
      },
      "source": [
        "import pandas as pd\r\n",
        "import numpy as np\r\n"
      ],
      "execution_count": 1,
      "outputs": []
    },
    {
      "cell_type": "code",
      "metadata": {
        "colab": {
          "base_uri": "https://localhost:8080/"
        },
        "id": "GsdV7Sx4lbmh",
        "outputId": "60b35e3d-5fb2-4f74-ab6c-e8cb626bc99d"
      },
      "source": [
        "print('Hello Capstone Project Course!')"
      ],
      "execution_count": 2,
      "outputs": [
        {
          "output_type": "stream",
          "text": [
            "Hello Capstone Project Course!\n"
          ],
          "name": "stdout"
        }
      ]
    },
    {
      "cell_type": "code",
      "metadata": {
        "id": "uDJBK0jtlix4"
      },
      "source": [
        ""
      ],
      "execution_count": null,
      "outputs": []
    }
  ]
}